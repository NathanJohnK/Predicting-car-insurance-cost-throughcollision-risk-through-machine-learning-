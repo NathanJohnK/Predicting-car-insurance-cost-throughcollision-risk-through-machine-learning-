{
 "cells": [
  {
   "cell_type": "code",
   "execution_count": 73,
   "metadata": {},
   "outputs": [],
   "source": [
    "import pandas as pd\n",
    "import numpy as np\n",
    "import seaborn as sn\n",
    "import matplotlib.pyplot as plt\n",
    "import seaborn as sns\n",
    "from IPython.display import display\n",
    "from sklearn.model_selection import train_test_split\n",
    "from sklearn.linear_model import LinearRegression\n",
    "from sklearn.metrics import mean_absolute_error\n"
   ]
  },
  {
   "cell_type": "code",
   "execution_count": 74,
   "metadata": {},
   "outputs": [],
   "source": [
    " #set the size of our plots as they are a little small by default.\n",
    "plt.rcParams[\"figure.figsize\"] = (20,5)"
   ]
  },
  {
   "cell_type": "code",
   "execution_count": 75,
   "metadata": {},
   "outputs": [
    {
     "data": {
      "text/html": [
       "<div>\n",
       "<style scoped>\n",
       "    .dataframe tbody tr th:only-of-type {\n",
       "        vertical-align: middle;\n",
       "    }\n",
       "\n",
       "    .dataframe tbody tr th {\n",
       "        vertical-align: top;\n",
       "    }\n",
       "\n",
       "    .dataframe thead th {\n",
       "        text-align: right;\n",
       "    }\n",
       "</style>\n",
       "<table border=\"1\" class=\"dataframe\">\n",
       "  <thead>\n",
       "    <tr style=\"text-align: right;\">\n",
       "      <th></th>\n",
       "      <th>day</th>\n",
       "      <th>year</th>\n",
       "      <th>mo</th>\n",
       "      <th>da</th>\n",
       "      <th>collision_date</th>\n",
       "      <th>temp</th>\n",
       "      <th>dewp</th>\n",
       "      <th>slp</th>\n",
       "      <th>visib</th>\n",
       "      <th>wdsp</th>\n",
       "      <th>mxpsd</th>\n",
       "      <th>gust</th>\n",
       "      <th>max</th>\n",
       "      <th>min</th>\n",
       "      <th>prcp</th>\n",
       "      <th>sndp</th>\n",
       "      <th>fog</th>\n",
       "      <th>NUM_COLLISIONS</th>\n",
       "    </tr>\n",
       "  </thead>\n",
       "  <tbody>\n",
       "    <tr>\n",
       "      <th>0</th>\n",
       "      <td>2</td>\n",
       "      <td>2013</td>\n",
       "      <td>1</td>\n",
       "      <td>1</td>\n",
       "      <td>01/01/2013</td>\n",
       "      <td>37.8</td>\n",
       "      <td>23.6</td>\n",
       "      <td>1011.9</td>\n",
       "      <td>10.0</td>\n",
       "      <td>6.1</td>\n",
       "      <td>8.9</td>\n",
       "      <td>19.0</td>\n",
       "      <td>39.9</td>\n",
       "      <td>33.1</td>\n",
       "      <td>0.0</td>\n",
       "      <td>999.9</td>\n",
       "      <td>0</td>\n",
       "      <td>381</td>\n",
       "    </tr>\n",
       "    <tr>\n",
       "      <th>1</th>\n",
       "      <td>3</td>\n",
       "      <td>2013</td>\n",
       "      <td>1</td>\n",
       "      <td>2</td>\n",
       "      <td>02/01/2013</td>\n",
       "      <td>27.1</td>\n",
       "      <td>10.5</td>\n",
       "      <td>1016.8</td>\n",
       "      <td>10.0</td>\n",
       "      <td>5.3</td>\n",
       "      <td>9.9</td>\n",
       "      <td>19.0</td>\n",
       "      <td>33.1</td>\n",
       "      <td>21.9</td>\n",
       "      <td>0.0</td>\n",
       "      <td>999.9</td>\n",
       "      <td>0</td>\n",
       "      <td>480</td>\n",
       "    </tr>\n",
       "    <tr>\n",
       "      <th>2</th>\n",
       "      <td>4</td>\n",
       "      <td>2013</td>\n",
       "      <td>1</td>\n",
       "      <td>3</td>\n",
       "      <td>03/01/2013</td>\n",
       "      <td>28.4</td>\n",
       "      <td>14.1</td>\n",
       "      <td>1020.6</td>\n",
       "      <td>10.0</td>\n",
       "      <td>3.7</td>\n",
       "      <td>8.0</td>\n",
       "      <td>15.0</td>\n",
       "      <td>32.0</td>\n",
       "      <td>24.1</td>\n",
       "      <td>0.0</td>\n",
       "      <td>999.9</td>\n",
       "      <td>0</td>\n",
       "      <td>549</td>\n",
       "    </tr>\n",
       "    <tr>\n",
       "      <th>3</th>\n",
       "      <td>5</td>\n",
       "      <td>2013</td>\n",
       "      <td>1</td>\n",
       "      <td>4</td>\n",
       "      <td>04/01/2013</td>\n",
       "      <td>33.4</td>\n",
       "      <td>18.6</td>\n",
       "      <td>1017.0</td>\n",
       "      <td>10.0</td>\n",
       "      <td>6.5</td>\n",
       "      <td>13.0</td>\n",
       "      <td>24.1</td>\n",
       "      <td>37.0</td>\n",
       "      <td>30.0</td>\n",
       "      <td>0.0</td>\n",
       "      <td>999.9</td>\n",
       "      <td>0</td>\n",
       "      <td>505</td>\n",
       "    </tr>\n",
       "    <tr>\n",
       "      <th>4</th>\n",
       "      <td>6</td>\n",
       "      <td>2013</td>\n",
       "      <td>1</td>\n",
       "      <td>5</td>\n",
       "      <td>05/01/2013</td>\n",
       "      <td>36.1</td>\n",
       "      <td>18.7</td>\n",
       "      <td>1020.6</td>\n",
       "      <td>10.0</td>\n",
       "      <td>6.6</td>\n",
       "      <td>12.0</td>\n",
       "      <td>21.0</td>\n",
       "      <td>42.1</td>\n",
       "      <td>32.0</td>\n",
       "      <td>0.0</td>\n",
       "      <td>999.9</td>\n",
       "      <td>0</td>\n",
       "      <td>389</td>\n",
       "    </tr>\n",
       "  </tbody>\n",
       "</table>\n",
       "</div>"
      ],
      "text/plain": [
       "   day  year  mo  da collision_date  temp  dewp     slp  visib  wdsp  mxpsd  \\\n",
       "0    2  2013   1   1     01/01/2013  37.8  23.6  1011.9   10.0   6.1    8.9   \n",
       "1    3  2013   1   2     02/01/2013  27.1  10.5  1016.8   10.0   5.3    9.9   \n",
       "2    4  2013   1   3     03/01/2013  28.4  14.1  1020.6   10.0   3.7    8.0   \n",
       "3    5  2013   1   4     04/01/2013  33.4  18.6  1017.0   10.0   6.5   13.0   \n",
       "4    6  2013   1   5     05/01/2013  36.1  18.7  1020.6   10.0   6.6   12.0   \n",
       "\n",
       "   gust   max   min  prcp   sndp  fog  NUM_COLLISIONS  \n",
       "0  19.0  39.9  33.1   0.0  999.9    0             381  \n",
       "1  19.0  33.1  21.9   0.0  999.9    0             480  \n",
       "2  15.0  32.0  24.1   0.0  999.9    0             549  \n",
       "3  24.1  37.0  30.0   0.0  999.9    0             505  \n",
       "4  21.0  42.1  32.0   0.0  999.9    0             389  "
      ]
     },
     "execution_count": 75,
     "metadata": {},
     "output_type": "execute_result"
    }
   ],
   "source": [
    "df = pd.read_csv(r'/home/user/Data Science Projects/Taxi/Predicting-car-insurance-cost-throughcollision-risk-through-machine-learning-/LBD_New_York_collisions_and_weather_data.csv')\n",
    "df.head()"
   ]
  },
  {
   "cell_type": "code",
   "execution_count": 76,
   "metadata": {},
   "outputs": [
    {
     "data": {
      "text/html": [
       "<div>\n",
       "<style scoped>\n",
       "    .dataframe tbody tr th:only-of-type {\n",
       "        vertical-align: middle;\n",
       "    }\n",
       "\n",
       "    .dataframe tbody tr th {\n",
       "        vertical-align: top;\n",
       "    }\n",
       "\n",
       "    .dataframe thead th {\n",
       "        text-align: right;\n",
       "    }\n",
       "</style>\n",
       "<table border=\"1\" class=\"dataframe\">\n",
       "  <thead>\n",
       "    <tr style=\"text-align: right;\">\n",
       "      <th></th>\n",
       "      <th>day</th>\n",
       "      <th>year</th>\n",
       "      <th>mo</th>\n",
       "      <th>da</th>\n",
       "      <th>collision_date</th>\n",
       "      <th>temp</th>\n",
       "      <th>dewp</th>\n",
       "      <th>slp</th>\n",
       "      <th>visib</th>\n",
       "      <th>wdsp</th>\n",
       "      <th>mxpsd</th>\n",
       "      <th>gust</th>\n",
       "      <th>max</th>\n",
       "      <th>min</th>\n",
       "      <th>prcp</th>\n",
       "      <th>sndp</th>\n",
       "      <th>fog</th>\n",
       "      <th>NUM_COLLISIONS</th>\n",
       "    </tr>\n",
       "  </thead>\n",
       "  <tbody>\n",
       "    <tr>\n",
       "      <th>0</th>\n",
       "      <td>2</td>\n",
       "      <td>2013</td>\n",
       "      <td>1</td>\n",
       "      <td>1</td>\n",
       "      <td>01/01/2013</td>\n",
       "      <td>37.8</td>\n",
       "      <td>23.6</td>\n",
       "      <td>1011.9</td>\n",
       "      <td>10.0</td>\n",
       "      <td>6.1</td>\n",
       "      <td>8.9</td>\n",
       "      <td>19.0</td>\n",
       "      <td>39.9</td>\n",
       "      <td>33.1</td>\n",
       "      <td>0.0</td>\n",
       "      <td>999.9</td>\n",
       "      <td>0</td>\n",
       "      <td>381</td>\n",
       "    </tr>\n",
       "    <tr>\n",
       "      <th>1</th>\n",
       "      <td>3</td>\n",
       "      <td>2013</td>\n",
       "      <td>1</td>\n",
       "      <td>2</td>\n",
       "      <td>02/01/2013</td>\n",
       "      <td>27.1</td>\n",
       "      <td>10.5</td>\n",
       "      <td>1016.8</td>\n",
       "      <td>10.0</td>\n",
       "      <td>5.3</td>\n",
       "      <td>9.9</td>\n",
       "      <td>19.0</td>\n",
       "      <td>33.1</td>\n",
       "      <td>21.9</td>\n",
       "      <td>0.0</td>\n",
       "      <td>999.9</td>\n",
       "      <td>0</td>\n",
       "      <td>480</td>\n",
       "    </tr>\n",
       "    <tr>\n",
       "      <th>2</th>\n",
       "      <td>4</td>\n",
       "      <td>2013</td>\n",
       "      <td>1</td>\n",
       "      <td>3</td>\n",
       "      <td>03/01/2013</td>\n",
       "      <td>28.4</td>\n",
       "      <td>14.1</td>\n",
       "      <td>1020.6</td>\n",
       "      <td>10.0</td>\n",
       "      <td>3.7</td>\n",
       "      <td>8.0</td>\n",
       "      <td>15.0</td>\n",
       "      <td>32.0</td>\n",
       "      <td>24.1</td>\n",
       "      <td>0.0</td>\n",
       "      <td>999.9</td>\n",
       "      <td>0</td>\n",
       "      <td>549</td>\n",
       "    </tr>\n",
       "    <tr>\n",
       "      <th>3</th>\n",
       "      <td>5</td>\n",
       "      <td>2013</td>\n",
       "      <td>1</td>\n",
       "      <td>4</td>\n",
       "      <td>04/01/2013</td>\n",
       "      <td>33.4</td>\n",
       "      <td>18.6</td>\n",
       "      <td>1017.0</td>\n",
       "      <td>10.0</td>\n",
       "      <td>6.5</td>\n",
       "      <td>13.0</td>\n",
       "      <td>24.1</td>\n",
       "      <td>37.0</td>\n",
       "      <td>30.0</td>\n",
       "      <td>0.0</td>\n",
       "      <td>999.9</td>\n",
       "      <td>0</td>\n",
       "      <td>505</td>\n",
       "    </tr>\n",
       "    <tr>\n",
       "      <th>4</th>\n",
       "      <td>6</td>\n",
       "      <td>2013</td>\n",
       "      <td>1</td>\n",
       "      <td>5</td>\n",
       "      <td>05/01/2013</td>\n",
       "      <td>36.1</td>\n",
       "      <td>18.7</td>\n",
       "      <td>1020.6</td>\n",
       "      <td>10.0</td>\n",
       "      <td>6.6</td>\n",
       "      <td>12.0</td>\n",
       "      <td>21.0</td>\n",
       "      <td>42.1</td>\n",
       "      <td>32.0</td>\n",
       "      <td>0.0</td>\n",
       "      <td>999.9</td>\n",
       "      <td>0</td>\n",
       "      <td>389</td>\n",
       "    </tr>\n",
       "  </tbody>\n",
       "</table>\n",
       "</div>"
      ],
      "text/plain": [
       "   day  year  mo  da collision_date  temp  dewp     slp  visib  wdsp  mxpsd  \\\n",
       "0    2  2013   1   1     01/01/2013  37.8  23.6  1011.9   10.0   6.1    8.9   \n",
       "1    3  2013   1   2     02/01/2013  27.1  10.5  1016.8   10.0   5.3    9.9   \n",
       "2    4  2013   1   3     03/01/2013  28.4  14.1  1020.6   10.0   3.7    8.0   \n",
       "3    5  2013   1   4     04/01/2013  33.4  18.6  1017.0   10.0   6.5   13.0   \n",
       "4    6  2013   1   5     05/01/2013  36.1  18.7  1020.6   10.0   6.6   12.0   \n",
       "\n",
       "   gust   max   min  prcp   sndp  fog  NUM_COLLISIONS  \n",
       "0  19.0  39.9  33.1   0.0  999.9    0             381  \n",
       "1  19.0  33.1  21.9   0.0  999.9    0             480  \n",
       "2  15.0  32.0  24.1   0.0  999.9    0             549  \n",
       "3  24.1  37.0  30.0   0.0  999.9    0             505  \n",
       "4  21.0  42.1  32.0   0.0  999.9    0             389  "
      ]
     },
     "execution_count": 76,
     "metadata": {},
     "output_type": "execute_result"
    }
   ],
   "source": [
    "df = df.sort_values([\"year\", \"mo\", \"da\"], ascending = (True, True, True)) # order the data by year, month, day in ascending order.\n",
    "df.head() # check the data again by viewing the first 5 rows"
   ]
  },
  {
   "cell_type": "code",
   "execution_count": 77,
   "metadata": {},
   "outputs": [
    {
     "name": "stdout",
     "output_type": "stream",
     "text": [
      "<class 'numpy.int64'>\n",
      "Total collisions before cleaning: 1319249\n"
     ]
    }
   ],
   "source": [
    "total_collisions = df['NUM_COLLISIONS'].sum()\n",
    "print(type(total_collisions))\n",
    "print(\"Total collisions before cleaning:\", total_collisions)\n"
   ]
  },
  {
   "cell_type": "markdown",
   "metadata": {},
   "source": [
    "Cleaning\n"
   ]
  },
  {
   "cell_type": "code",
   "execution_count": 78,
   "metadata": {},
   "outputs": [
    {
     "name": "stdout",
     "output_type": "stream",
     "text": [
      "Total collisions before cleaning: 1319249\n",
      "Total total_collisions_post_clean: 1307273\n",
      "Dropped 11976 rows\n"
     ]
    }
   ],
   "source": [
    "#original df\n",
    "original_df = df\n",
    "\n",
    "df_cleaned = df[(df[\"NUM_COLLISIONS\"] > 350) & (df[\"NUM_COLLISIONS\"] < 900)]\n",
    "df_cleaned = df_cleaned.dropna(how='all')\n",
    "df_cleaned.dropna(subset=['NUM_COLLISIONS'], inplace=True) \n",
    "df_cleaned['collision_date'] = pd.to_numeric(df['collision_date'], errors='coerce')  \n",
    "total_collisions_post_clean = df_cleaned['NUM_COLLISIONS'].sum()\n",
    "print(\"Total collisions before cleaning:\", total_collisions)\n",
    "print(\"Total total_collisions_post_clean:\", total_collisions_post_clean)\n",
    "difference = total_collisions - total_collisions_post_clean\n",
    "print(f\"Dropped {difference} rows\")\n"
   ]
  },
  {
   "cell_type": "markdown",
   "metadata": {},
   "source": [
    "Descriptive statistics"
   ]
  },
  {
   "cell_type": "code",
   "execution_count": 79,
   "metadata": {},
   "outputs": [
    {
     "name": "stdout",
     "output_type": "stream",
     "text": [
      "Collisions per Day:\n",
      "   Group  Total Collisions\n",
      "4      5            207693\n",
      "3      4            196751\n",
      "1      2            194514\n",
      "2      3            194134\n",
      "0      1            187203\n",
      "5      6            175254\n",
      "6      7            151724\n",
      "\n",
      "Collisions per Month:\n",
      "    Group  Total Collisions\n",
      "5       6            118319\n",
      "9      10            116505\n",
      "4       5            116190\n",
      "6       7            113076\n",
      "8       9            111650\n",
      "7       8            111309\n",
      "10     11            109884\n",
      "11     12            108360\n",
      "2       3            106432\n",
      "3       4            104204\n",
      "0       1             99241\n",
      "1       2             92103\n"
     ]
    }
   ],
   "source": [
    "def collision_grouping_decorator(group_by):\n",
    "    \"\"\"Decorator to group collisions by day or month.\"\"\"\n",
    "    def wrapper(func):\n",
    "        def inner(dataframe):\n",
    "            collisions = dataframe.groupby(group_by)['NUM_COLLISIONS'].sum().reset_index()\n",
    "            collisions.columns = ['Group', 'Total Collisions']\n",
    "            return collisions.sort_values(by='Total Collisions', ascending=False)\n",
    "        return inner\n",
    "    return wrapper\n",
    "\n",
    "@collision_grouping_decorator('day')\n",
    "def group_collisions_by_day(dataframe):\n",
    "    \"\"\"Groups collisions by day of the week.\"\"\"\n",
    "    pass  # The actual logic is handled by the decorator\n",
    "\n",
    "@collision_grouping_decorator('mo')\n",
    "def group_collisions_by_month(dataframe):\n",
    "    \"\"\"Groups collisions by month.\"\"\"\n",
    "    pass  # The actual logic is handled by the decorator\n",
    "\n",
    "# Get collisions grouped by day and month\n",
    "collisions_per_day_df = group_collisions_by_day(df_cleaned)\n",
    "collisions_per_month_df = group_collisions_by_month(df_cleaned)\n",
    "\n",
    "# Print results\n",
    "print(\"Collisions per Day:\")\n",
    "print(collisions_per_day_df)\n",
    "\n",
    "print(\"\\nCollisions per Month:\")\n",
    "print(collisions_per_month_df)\n",
    "\n",
    "\n",
    "##Interesting - Friday as the most collisions, with Sunday the least - rush hour, commuting\n",
    "## so what's the connection between Friday and Sunday. Sunday is a quieter day, Friday busier. Don't have a time of day so can't look at this in more detail.\n",
    "##is there time data available?\n",
    "\n",
    "\n",
    "#Correlation between weather? Rainfall on a particular day? or by month?"
   ]
  },
  {
   "cell_type": "code",
   "execution_count": 80,
   "metadata": {},
   "outputs": [],
   "source": [
    "#examine weather data etc\n",
    "\n"
   ]
  },
  {
   "cell_type": "code",
   "execution_count": 81,
   "metadata": {},
   "outputs": [
    {
     "data": {
      "image/png": "[encoded data removed]",
      "text/plain": [
       "<Figure size 1000x600 with 1 Axes>"
      ]
     },
     "metadata": {},
     "output_type": "display_data"
    }
   ],
   "source": [
    "# Grouping by 'year' and summing 'NUM_COLLISIONS' for each year\n",
    "collisions_per_year = df_cleaned.groupby('year')['NUM_COLLISIONS'].sum()\n",
    "\n",
    "# Convert the series to a DataFrame for plotting\n",
    "collisions_per_year_df = collisions_per_year.reset_index()\n",
    "\n",
    "# Create a bar chart\n",
    "plt.figure(figsize=(10, 6))\n",
    "plt.bar(collisions_per_year_df['year'], collisions_per_year_df['NUM_COLLISIONS'], color='skyblue')\n",
    "plt.xlabel('Year')\n",
    "plt.ylabel('Number of Collisions')\n",
    "plt.title('Number of Collisions Per Year')\n",
    "plt.xticks(collisions_per_year_df['year'])  # Ensure all years are displayed on the x-axis\n",
    "plt.grid(axis='y', linestyle='--', alpha=0.7)\n",
    "plt.show()\n",
    "\n",
    "# Narrative - ok clearly collisions are increasing, year on year"
   ]
  },
  {
   "cell_type": "code",
   "execution_count": 82,
   "metadata": {},
   "outputs": [
    {
     "name": "stdout",
     "output_type": "stream",
     "text": [
      "day_mapped   Friday   Monday  Saturday   Sunday  Thursday  Tuesday  Wednesday\n",
      "year                                                                         \n",
      "2013        33109.0  29453.0   27702.0  24135.0   29726.0  30214.0    29138.0\n",
      "2014        32415.0  29003.0   27658.0  22833.0   30473.0  29628.0    30586.0\n",
      "2015        33146.0  31059.0   27978.0  24644.0   32906.0  32496.0    32403.0\n",
      "2016        37147.0  32000.0   30794.0  26059.0   34682.0  34314.0    34235.0\n",
      "2017        34948.0  32716.0   30640.0  27464.0   34445.0  33721.0    33856.0\n",
      "2018        36928.0  32972.0   30482.0  26589.0   34519.0  34141.0    33916.0\n"
     ]
    }
   ],
   "source": [
    "#Narrative - I am going to examine whether the number of collisions for each day of the week changes from year to year\n",
    "\n",
    "# Define a mapping for days of the week\n",
    "day_mapping = {1: 'Monday', 2: 'Tuesday', 3: 'Wednesday', 4: 'Thursday', 5: 'Friday', 6: 'Saturday', 7: 'Sunday'}\n",
    "\n",
    "# Apply the day mapping to the 'day' column\n",
    "df_cleaned.loc[:, 'day_mapped'] = df_cleaned['day'].map(day_mapping)\n",
    "\n",
    "# Group by year and day of the week, then sum the number of collisions\n",
    "collisions_per_day_per_year = df_cleaned.groupby(['year', 'day_mapped'])['NUM_COLLISIONS'].sum().reset_index()\n",
    "\n",
    "# Pivot the table to have years as rows and days of the week as columns\n",
    "collisions_per_day_per_year_pivot = collisions_per_day_per_year.pivot_table(index='year', columns='day_mapped', values='NUM_COLLISIONS', fill_value=0)\n",
    "\n",
    "# Display the resulting table\n",
    "print(collisions_per_day_per_year_pivot)\n"
   ]
  },
  {
   "cell_type": "markdown",
   "metadata": {},
   "source": [
    "Regression Analysis"
   ]
  },
  {
   "cell_type": "code",
   "execution_count": 83,
   "metadata": {},
   "outputs": [],
   "source": [
    "df_2012 = df_cleaned[df_cleaned[\"year\"] == 2012]\n",
    "df_2012.loc[df_2012['day'] > 0, 'day'] = df_2012['day']+1 # change all days by adding 1.\n",
    "\n",
    "df_2012.loc[df_2012['day'] == 8, 'day'] = 1 # change days that equal 8 to day 1"
   ]
  },
  {
   "cell_type": "code",
   "execution_count": 84,
   "metadata": {},
   "outputs": [],
   "source": [
    "# Filter data for the year 2013\n",
    "df_2013 = df_cleaned[df_cleaned[\"year\"] == 2013].copy()\n",
    "\n",
    "# Increment all days by 1\n",
    "df_2013.loc[df_2013['day'] > 0, 'day'] += 1\n",
    "\n",
    "# Change days that are equal to 8 to 1\n",
    "df_2013.loc[df_2013['day'] == 8, 'day'] = 1\n",
    "\n",
    "\n",
    "# Filter data for the year 2014\n",
    "df_2014 = df_cleaned[df_cleaned[\"year\"] == 2014].copy()\n",
    "\n",
    "# Increment all days by 1\n",
    "df_2014.loc[df_2014['day'] > 0, 'day'] += 1\n",
    "\n",
    "# Change days that are equal to 8 to 1\n",
    "df_2014.loc[df_2014['day'] == 8, 'day'] = 1\n",
    "\n",
    "# Filter data for the year 2015\n",
    "df_2015 = df_cleaned[df_cleaned[\"year\"] == 2015].copy()\n",
    "\n",
    "# Increment all days by 1\n",
    "df_2015.loc[df_2015['day'] > 0, 'day'] += 1\n",
    "\n",
    "# Change days that are equal to 8 to 1\n",
    "df_2015.loc[df_2015['day'] == 8, 'day'] = 1\n",
    "\n",
    "# Filter data for the year 2016\n",
    "df_2016 = df_cleaned[df_cleaned[\"year\"] == 2016].copy()\n",
    "\n",
    "# Increment all days by 1\n",
    "df_2016.loc[df_2016['day'] > 0, 'day'] += 1\n",
    "\n",
    "# Change days that are equal to 8 to 1\n",
    "df_2016.loc[df_2016['day'] == 8, 'day'] = 1"
   ]
  },
  {
   "cell_type": "code",
   "execution_count": 85,
   "metadata": {},
   "outputs": [
    {
     "name": "stdout",
     "output_type": "stream",
     "text": [
      "1446\n",
      "ran this!\n"
     ]
    },
    {
     "data": {
      "text/html": [
       "<div>\n",
       "<style scoped>\n",
       "    .dataframe tbody tr th:only-of-type {\n",
       "        vertical-align: middle;\n",
       "    }\n",
       "\n",
       "    .dataframe tbody tr th {\n",
       "        vertical-align: top;\n",
       "    }\n",
       "\n",
       "    .dataframe thead th {\n",
       "        text-align: right;\n",
       "    }\n",
       "</style>\n",
       "<table border=\"1\" class=\"dataframe\">\n",
       "  <thead>\n",
       "    <tr style=\"text-align: right;\">\n",
       "      <th></th>\n",
       "      <th>day</th>\n",
       "      <th>year</th>\n",
       "      <th>mo</th>\n",
       "      <th>da</th>\n",
       "      <th>collision_date</th>\n",
       "      <th>temp</th>\n",
       "      <th>dewp</th>\n",
       "      <th>slp</th>\n",
       "      <th>visib</th>\n",
       "      <th>wdsp</th>\n",
       "      <th>mxpsd</th>\n",
       "      <th>gust</th>\n",
       "      <th>max</th>\n",
       "      <th>min</th>\n",
       "      <th>prcp</th>\n",
       "      <th>sndp</th>\n",
       "      <th>fog</th>\n",
       "      <th>NUM_COLLISIONS</th>\n",
       "    </tr>\n",
       "  </thead>\n",
       "  <tbody>\n",
       "    <tr>\n",
       "      <th>count</th>\n",
       "      <td>1446.000000</td>\n",
       "      <td>1446.00000</td>\n",
       "      <td>1446.000000</td>\n",
       "      <td>1446.000000</td>\n",
       "      <td>0.0</td>\n",
       "      <td>1446.000000</td>\n",
       "      <td>1446.000000</td>\n",
       "      <td>1446.000000</td>\n",
       "      <td>1446.000000</td>\n",
       "      <td>1446.000000</td>\n",
       "      <td>1446.000000</td>\n",
       "      <td>1446.000000</td>\n",
       "      <td>1446.000000</td>\n",
       "      <td>1446.000000</td>\n",
       "      <td>1446.000000</td>\n",
       "      <td>1446.000000</td>\n",
       "      <td>1446.000000</td>\n",
       "      <td>1446.000000</td>\n",
       "    </tr>\n",
       "    <tr>\n",
       "      <th>mean</th>\n",
       "      <td>4.018672</td>\n",
       "      <td>2014.50000</td>\n",
       "      <td>6.538036</td>\n",
       "      <td>15.736515</td>\n",
       "      <td>NaN</td>\n",
       "      <td>55.856570</td>\n",
       "      <td>40.460235</td>\n",
       "      <td>1141.416321</td>\n",
       "      <td>28.152420</td>\n",
       "      <td>16.337690</td>\n",
       "      <td>21.072752</td>\n",
       "      <td>344.061342</td>\n",
       "      <td>65.375864</td>\n",
       "      <td>48.035408</td>\n",
       "      <td>0.132801</td>\n",
       "      <td>910.673306</td>\n",
       "      <td>0.071231</td>\n",
       "      <td>587.784232</td>\n",
       "    </tr>\n",
       "    <tr>\n",
       "      <th>std</th>\n",
       "      <td>1.995929</td>\n",
       "      <td>1.12151</td>\n",
       "      <td>3.429710</td>\n",
       "      <td>8.794879</td>\n",
       "      <td>NaN</td>\n",
       "      <td>17.562679</td>\n",
       "      <td>19.170412</td>\n",
       "      <td>1049.480490</td>\n",
       "      <td>136.606818</td>\n",
       "      <td>107.333302</td>\n",
       "      <td>106.841720</td>\n",
       "      <td>461.040350</td>\n",
       "      <td>18.307613</td>\n",
       "      <td>17.194228</td>\n",
       "      <td>0.350377</td>\n",
       "      <td>283.992694</td>\n",
       "      <td>0.257299</td>\n",
       "      <td>92.945349</td>\n",
       "    </tr>\n",
       "    <tr>\n",
       "      <th>min</th>\n",
       "      <td>1.000000</td>\n",
       "      <td>2013.00000</td>\n",
       "      <td>1.000000</td>\n",
       "      <td>1.000000</td>\n",
       "      <td>NaN</td>\n",
       "      <td>9.800000</td>\n",
       "      <td>-11.800000</td>\n",
       "      <td>992.100000</td>\n",
       "      <td>1.700000</td>\n",
       "      <td>0.900000</td>\n",
       "      <td>4.100000</td>\n",
       "      <td>14.000000</td>\n",
       "      <td>17.600000</td>\n",
       "      <td>1.900000</td>\n",
       "      <td>0.000000</td>\n",
       "      <td>1.200000</td>\n",
       "      <td>0.000000</td>\n",
       "      <td>355.000000</td>\n",
       "    </tr>\n",
       "    <tr>\n",
       "      <th>25%</th>\n",
       "      <td>2.000000</td>\n",
       "      <td>2013.00000</td>\n",
       "      <td>4.000000</td>\n",
       "      <td>8.000000</td>\n",
       "      <td>NaN</td>\n",
       "      <td>41.900000</td>\n",
       "      <td>26.225000</td>\n",
       "      <td>1012.700000</td>\n",
       "      <td>8.500000</td>\n",
       "      <td>3.300000</td>\n",
       "      <td>7.000000</td>\n",
       "      <td>18.100000</td>\n",
       "      <td>50.275000</td>\n",
       "      <td>35.100000</td>\n",
       "      <td>0.000000</td>\n",
       "      <td>999.900000</td>\n",
       "      <td>0.000000</td>\n",
       "      <td>521.000000</td>\n",
       "    </tr>\n",
       "    <tr>\n",
       "      <th>50%</th>\n",
       "      <td>4.000000</td>\n",
       "      <td>2014.50000</td>\n",
       "      <td>7.000000</td>\n",
       "      <td>16.000000</td>\n",
       "      <td>NaN</td>\n",
       "      <td>57.700000</td>\n",
       "      <td>42.050000</td>\n",
       "      <td>1017.000000</td>\n",
       "      <td>9.800000</td>\n",
       "      <td>4.400000</td>\n",
       "      <td>8.900000</td>\n",
       "      <td>22.900000</td>\n",
       "      <td>66.900000</td>\n",
       "      <td>48.900000</td>\n",
       "      <td>0.000000</td>\n",
       "      <td>999.900000</td>\n",
       "      <td>0.000000</td>\n",
       "      <td>589.000000</td>\n",
       "    </tr>\n",
       "    <tr>\n",
       "      <th>75%</th>\n",
       "      <td>6.000000</td>\n",
       "      <td>2016.00000</td>\n",
       "      <td>10.000000</td>\n",
       "      <td>23.000000</td>\n",
       "      <td>NaN</td>\n",
       "      <td>72.075000</td>\n",
       "      <td>56.375000</td>\n",
       "      <td>1021.875000</td>\n",
       "      <td>10.000000</td>\n",
       "      <td>5.800000</td>\n",
       "      <td>11.100000</td>\n",
       "      <td>999.900000</td>\n",
       "      <td>82.000000</td>\n",
       "      <td>64.000000</td>\n",
       "      <td>0.070000</td>\n",
       "      <td>999.900000</td>\n",
       "      <td>0.000000</td>\n",
       "      <td>650.000000</td>\n",
       "    </tr>\n",
       "    <tr>\n",
       "      <th>max</th>\n",
       "      <td>7.000000</td>\n",
       "      <td>2016.00000</td>\n",
       "      <td>12.000000</td>\n",
       "      <td>31.000000</td>\n",
       "      <td>NaN</td>\n",
       "      <td>89.100000</td>\n",
       "      <td>74.800000</td>\n",
       "      <td>9999.900000</td>\n",
       "      <td>999.900000</td>\n",
       "      <td>999.900000</td>\n",
       "      <td>999.900000</td>\n",
       "      <td>999.900000</td>\n",
       "      <td>98.100000</td>\n",
       "      <td>82.900000</td>\n",
       "      <td>4.530000</td>\n",
       "      <td>999.900000</td>\n",
       "      <td>1.000000</td>\n",
       "      <td>872.000000</td>\n",
       "    </tr>\n",
       "  </tbody>\n",
       "</table>\n",
       "</div>"
      ],
      "text/plain": [
       "               day        year           mo           da  collision_date  \\\n",
       "count  1446.000000  1446.00000  1446.000000  1446.000000             0.0   \n",
       "mean      4.018672  2014.50000     6.538036    15.736515             NaN   \n",
       "std       1.995929     1.12151     3.429710     8.794879             NaN   \n",
       "min       1.000000  2013.00000     1.000000     1.000000             NaN   \n",
       "25%       2.000000  2013.00000     4.000000     8.000000             NaN   \n",
       "50%       4.000000  2014.50000     7.000000    16.000000             NaN   \n",
       "75%       6.000000  2016.00000    10.000000    23.000000             NaN   \n",
       "max       7.000000  2016.00000    12.000000    31.000000             NaN   \n",
       "\n",
       "              temp         dewp          slp        visib         wdsp  \\\n",
       "count  1446.000000  1446.000000  1446.000000  1446.000000  1446.000000   \n",
       "mean     55.856570    40.460235  1141.416321    28.152420    16.337690   \n",
       "std      17.562679    19.170412  1049.480490   136.606818   107.333302   \n",
       "min       9.800000   -11.800000   992.100000     1.700000     0.900000   \n",
       "25%      41.900000    26.225000  1012.700000     8.500000     3.300000   \n",
       "50%      57.700000    42.050000  1017.000000     9.800000     4.400000   \n",
       "75%      72.075000    56.375000  1021.875000    10.000000     5.800000   \n",
       "max      89.100000    74.800000  9999.900000   999.900000   999.900000   \n",
       "\n",
       "             mxpsd         gust          max          min         prcp  \\\n",
       "count  1446.000000  1446.000000  1446.000000  1446.000000  1446.000000   \n",
       "mean     21.072752   344.061342    65.375864    48.035408     0.132801   \n",
       "std     106.841720   461.040350    18.307613    17.194228     0.350377   \n",
       "min       4.100000    14.000000    17.600000     1.900000     0.000000   \n",
       "25%       7.000000    18.100000    50.275000    35.100000     0.000000   \n",
       "50%       8.900000    22.900000    66.900000    48.900000     0.000000   \n",
       "75%      11.100000   999.900000    82.000000    64.000000     0.070000   \n",
       "max     999.900000   999.900000    98.100000    82.900000     4.530000   \n",
       "\n",
       "              sndp          fog  NUM_COLLISIONS  \n",
       "count  1446.000000  1446.000000     1446.000000  \n",
       "mean    910.673306     0.071231      587.784232  \n",
       "std     283.992694     0.257299       92.945349  \n",
       "min       1.200000     0.000000      355.000000  \n",
       "25%     999.900000     0.000000      521.000000  \n",
       "50%     999.900000     0.000000      589.000000  \n",
       "75%     999.900000     0.000000      650.000000  \n",
       "max     999.900000     1.000000      872.000000  "
      ]
     },
     "execution_count": 85,
     "metadata": {},
     "output_type": "execute_result"
    }
   ],
   "source": [
    "all_years = [df_2013, df_2014, df_2015, df_2016]\n",
    "df_final = pd.concat(all_years)\n",
    "print(df_final[\"day\"].count())\n",
    "\n",
    "df_final.head()\n",
    "print (\"ran this!\")\n",
    "\n",
    "df_final.describe()\n"
   ]
  },
  {
   "cell_type": "code",
   "execution_count": 86,
   "metadata": {},
   "outputs": [
    {
     "data": {
      "image/png": "[encoded data removed]",
      "text/plain": [
       "<Figure size 2000x500 with 1 Axes>"
      ]
     },
     "metadata": {},
     "output_type": "display_data"
    }
   ],
   "source": [
    "# check out this plot\n",
    "groups = df_final.groupby('year') # We group by year as we want to create a legend and make the visualization clearer using color.\n",
    "plt.ylim(0, 1480)\n",
    "\n",
    "for name, group in groups:\n",
    "    plt.plot(group.da, group.NUM_COLLISIONS, marker='o', linestyle='', markersize=2, label=name)\n",
    "\n",
    "plt.legend()\n",
    "\n",
    "# Adding axis titles\n",
    "plt.xlabel('Day of the Year')\n",
    "plt.ylabel('Number of Collisions')\n",
    "\n",
    "plt.show()"
   ]
  },
  {
   "cell_type": "markdown",
   "metadata": {},
   "source": [
    "Regression model"
   ]
  },
  {
   "cell_type": "code",
   "execution_count": 87,
   "metadata": {},
   "outputs": [
    {
     "name": "stdout",
     "output_type": "stream",
     "text": [
      "2.17.0\n"
     ]
    }
   ],
   "source": [
    "import tensorflow as tf\n",
    "import keras\n",
    "from tensorflow import keras\n",
    "from tensorflow.keras import layers\n",
    "from keras import layers\n",
    "from tensorflow.python.keras.layers import Dense\n",
    "print(tf.__version__)\n",
    "\n"
   ]
  },
  {
   "cell_type": "code",
   "execution_count": 88,
   "metadata": {},
   "outputs": [
    {
     "data": {
      "text/html": [
       "<div>\n",
       "<style scoped>\n",
       "    .dataframe tbody tr th:only-of-type {\n",
       "        vertical-align: middle;\n",
       "    }\n",
       "\n",
       "    .dataframe tbody tr th {\n",
       "        vertical-align: top;\n",
       "    }\n",
       "\n",
       "    .dataframe thead th {\n",
       "        text-align: right;\n",
       "    }\n",
       "</style>\n",
       "<table border=\"1\" class=\"dataframe\">\n",
       "  <thead>\n",
       "    <tr style=\"text-align: right;\">\n",
       "      <th></th>\n",
       "      <th>day</th>\n",
       "      <th>NUM_COLLISIONS</th>\n",
       "    </tr>\n",
       "  </thead>\n",
       "  <tbody>\n",
       "    <tr>\n",
       "      <th>0</th>\n",
       "      <td>3</td>\n",
       "      <td>381</td>\n",
       "    </tr>\n",
       "    <tr>\n",
       "      <th>1</th>\n",
       "      <td>4</td>\n",
       "      <td>480</td>\n",
       "    </tr>\n",
       "    <tr>\n",
       "      <th>2</th>\n",
       "      <td>5</td>\n",
       "      <td>549</td>\n",
       "    </tr>\n",
       "    <tr>\n",
       "      <th>3</th>\n",
       "      <td>6</td>\n",
       "      <td>505</td>\n",
       "    </tr>\n",
       "    <tr>\n",
       "      <th>4</th>\n",
       "      <td>7</td>\n",
       "      <td>389</td>\n",
       "    </tr>\n",
       "  </tbody>\n",
       "</table>\n",
       "</div>"
      ],
      "text/plain": [
       "   day  NUM_COLLISIONS\n",
       "0    3             381\n",
       "1    4             480\n",
       "2    5             549\n",
       "3    6             505\n",
       "4    7             389"
      ]
     },
     "execution_count": 88,
     "metadata": {},
     "output_type": "execute_result"
    }
   ],
   "source": [
    "##Narrative - now I want to make a very simple model, with just one single input (days) and one output (NUM_COLLISIONS). So, let's create a dataframe.\n",
    "one_input_data = [df_final[\"day\"], df_final[\"NUM_COLLISIONS\"]] # create an array of all values for day and all values for NUM_TRIPS in two columns\n",
    "headers = [\"day\", \"NUM_COLLISIONS\"] # declare the titles of our input and output. As you can see day is first and NUM_TRIPS is second and they correspond to the line above\n",
    "df_one_input = pd.concat(one_input_data, axis=1, keys=headers) # Bring these two arrays together to make a new dataframe\n",
    "df_one_input.head()"
   ]
  },
  {
   "cell_type": "code",
   "execution_count": 89,
   "metadata": {},
   "outputs": [],
   "source": [
    " #ok now to train model\n",
    "\n",
    "train_dataset = df_one_input.sample(frac=0.8, random_state=0)\n",
    "test_dataset = df_one_input.drop(train_dataset.index)"
   ]
  },
  {
   "cell_type": "code",
   "execution_count": 90,
   "metadata": {},
   "outputs": [
    {
     "data": {
      "text/html": [
       "<div>\n",
       "<style scoped>\n",
       "    .dataframe tbody tr th:only-of-type {\n",
       "        vertical-align: middle;\n",
       "    }\n",
       "\n",
       "    .dataframe tbody tr th {\n",
       "        vertical-align: top;\n",
       "    }\n",
       "\n",
       "    .dataframe thead th {\n",
       "        text-align: right;\n",
       "    }\n",
       "</style>\n",
       "<table border=\"1\" class=\"dataframe\">\n",
       "  <thead>\n",
       "    <tr style=\"text-align: right;\">\n",
       "      <th></th>\n",
       "      <th>day</th>\n",
       "      <th>NUM_COLLISIONS</th>\n",
       "    </tr>\n",
       "  </thead>\n",
       "  <tbody>\n",
       "    <tr>\n",
       "      <th>count</th>\n",
       "      <td>1157.000000</td>\n",
       "      <td>1157.000000</td>\n",
       "    </tr>\n",
       "    <tr>\n",
       "      <th>mean</th>\n",
       "      <td>3.994814</td>\n",
       "      <td>586.856525</td>\n",
       "    </tr>\n",
       "    <tr>\n",
       "      <th>std</th>\n",
       "      <td>1.996963</td>\n",
       "      <td>92.742613</td>\n",
       "    </tr>\n",
       "    <tr>\n",
       "      <th>min</th>\n",
       "      <td>1.000000</td>\n",
       "      <td>355.000000</td>\n",
       "    </tr>\n",
       "    <tr>\n",
       "      <th>25%</th>\n",
       "      <td>2.000000</td>\n",
       "      <td>519.000000</td>\n",
       "    </tr>\n",
       "    <tr>\n",
       "      <th>50%</th>\n",
       "      <td>4.000000</td>\n",
       "      <td>589.000000</td>\n",
       "    </tr>\n",
       "    <tr>\n",
       "      <th>75%</th>\n",
       "      <td>6.000000</td>\n",
       "      <td>649.000000</td>\n",
       "    </tr>\n",
       "    <tr>\n",
       "      <th>max</th>\n",
       "      <td>7.000000</td>\n",
       "      <td>872.000000</td>\n",
       "    </tr>\n",
       "  </tbody>\n",
       "</table>\n",
       "</div>"
      ],
      "text/plain": [
       "               day  NUM_COLLISIONS\n",
       "count  1157.000000     1157.000000\n",
       "mean      3.994814      586.856525\n",
       "std       1.996963       92.742613\n",
       "min       1.000000      355.000000\n",
       "25%       2.000000      519.000000\n",
       "50%       4.000000      589.000000\n",
       "75%       6.000000      649.000000\n",
       "max       7.000000      872.000000"
      ]
     },
     "execution_count": 90,
     "metadata": {},
     "output_type": "execute_result"
    }
   ],
   "source": [
    "train_dataset.describe()"
   ]
  },
  {
   "cell_type": "code",
   "execution_count": 91,
   "metadata": {},
   "outputs": [
    {
     "data": {
      "text/html": [
       "<div>\n",
       "<style scoped>\n",
       "    .dataframe tbody tr th:only-of-type {\n",
       "        vertical-align: middle;\n",
       "    }\n",
       "\n",
       "    .dataframe tbody tr th {\n",
       "        vertical-align: top;\n",
       "    }\n",
       "\n",
       "    .dataframe thead th {\n",
       "        text-align: right;\n",
       "    }\n",
       "</style>\n",
       "<table border=\"1\" class=\"dataframe\">\n",
       "  <thead>\n",
       "    <tr style=\"text-align: right;\">\n",
       "      <th></th>\n",
       "      <th>day</th>\n",
       "      <th>NUM_COLLISIONS</th>\n",
       "    </tr>\n",
       "  </thead>\n",
       "  <tbody>\n",
       "    <tr>\n",
       "      <th>count</th>\n",
       "      <td>289.000000</td>\n",
       "      <td>289.000000</td>\n",
       "    </tr>\n",
       "    <tr>\n",
       "      <th>mean</th>\n",
       "      <td>4.114187</td>\n",
       "      <td>591.498270</td>\n",
       "    </tr>\n",
       "    <tr>\n",
       "      <th>std</th>\n",
       "      <td>1.992374</td>\n",
       "      <td>93.822384</td>\n",
       "    </tr>\n",
       "    <tr>\n",
       "      <th>min</th>\n",
       "      <td>1.000000</td>\n",
       "      <td>357.000000</td>\n",
       "    </tr>\n",
       "    <tr>\n",
       "      <th>25%</th>\n",
       "      <td>2.000000</td>\n",
       "      <td>526.000000</td>\n",
       "    </tr>\n",
       "    <tr>\n",
       "      <th>50%</th>\n",
       "      <td>4.000000</td>\n",
       "      <td>590.000000</td>\n",
       "    </tr>\n",
       "    <tr>\n",
       "      <th>75%</th>\n",
       "      <td>6.000000</td>\n",
       "      <td>653.000000</td>\n",
       "    </tr>\n",
       "    <tr>\n",
       "      <th>max</th>\n",
       "      <td>7.000000</td>\n",
       "      <td>867.000000</td>\n",
       "    </tr>\n",
       "  </tbody>\n",
       "</table>\n",
       "</div>"
      ],
      "text/plain": [
       "              day  NUM_COLLISIONS\n",
       "count  289.000000      289.000000\n",
       "mean     4.114187      591.498270\n",
       "std      1.992374       93.822384\n",
       "min      1.000000      357.000000\n",
       "25%      2.000000      526.000000\n",
       "50%      4.000000      590.000000\n",
       "75%      6.000000      653.000000\n",
       "max      7.000000      867.000000"
      ]
     },
     "execution_count": 91,
     "metadata": {},
     "output_type": "execute_result"
    }
   ],
   "source": [
    "test_dataset.describe()"
   ]
  },
  {
   "cell_type": "code",
   "execution_count": 92,
   "metadata": {},
   "outputs": [],
   "source": [
    "train_features = train_dataset.copy()\n",
    "test_features = test_dataset.copy()\n",
    "\n",
    "train_labels = train_features.pop('NUM_COLLISIONS')\n",
    "test_labels = test_features.pop('NUM_COLLISIONS')"
   ]
  },
  {
   "cell_type": "code",
   "execution_count": 93,
   "metadata": {},
   "outputs": [
    {
     "name": "stdout",
     "output_type": "stream",
     "text": [
      "      day\n",
      "1096    7\n",
      "482     2\n",
      "184     5\n",
      "302     4\n",
      "995     4\n",
      "    day\n",
      "11    7\n",
      "23    5\n",
      "24    6\n",
      "25    7\n",
      "28    3\n"
     ]
    }
   ],
   "source": [
    "print(train_features.head())\n",
    "print(test_features.head())"
   ]
  },
  {
   "cell_type": "code",
   "execution_count": 94,
   "metadata": {},
   "outputs": [],
   "source": [
    "scale_factor = 1000000"
   ]
  },
  {
   "cell_type": "code",
   "execution_count": 95,
   "metadata": {},
   "outputs": [
    {
     "name": "stdout",
     "output_type": "stream",
     "text": [
      "1096    0.000422\n",
      "482     0.000597\n",
      "184     0.000438\n",
      "302     0.000558\n",
      "995     0.000501\n",
      "          ...   \n",
      "460     0.000484\n",
      "589     0.000572\n",
      "147     0.000686\n",
      "160     0.000624\n",
      "1124    0.000596\n",
      "Name: NUM_COLLISIONS, Length: 1157, dtype: float64\n"
     ]
    }
   ],
   "source": [
    "train_labels = train_labels/scale_factor\n",
    "test_labels = test_labels/scale_factor\n",
    "print(train_labels)"
   ]
  },
  {
   "cell_type": "code",
   "execution_count": 96,
   "metadata": {},
   "outputs": [
    {
     "name": "stdout",
     "output_type": "stream",
     "text": [
      "First example: [[7]]\n",
      "\n",
      "Normalized: [[1.51]]\n"
     ]
    }
   ],
   "source": [
    "import tensorflow as tf\n",
    "import numpy as np\n",
    "\n",
    "# Assuming train_features is your training data\n",
    "normalizer = tf.keras.layers.Normalization(axis=-1)\n",
    "normalizer.adapt(np.array(train_features))\n",
    "\n",
    "first = np.array(train_features[:1])\n",
    "\n",
    "# Print the first example before and after normalization\n",
    "with np.printoptions(precision=2, suppress=True):\n",
    "    print('First example:', first)\n",
    "    print()\n",
    "    print('Normalized:', normalizer(first).numpy())\n"
   ]
  },
  {
   "cell_type": "code",
   "execution_count": 97,
   "metadata": {},
   "outputs": [
    {
     "name": "stderr",
     "output_type": "stream",
     "text": [
      "/home/user/.pyenv/versions/3.11.1/lib/python3.11/site-packages/keras/src/layers/preprocessing/tf_data_layer.py:19: UserWarning: Do not pass an `input_shape`/`input_dim` argument to a layer. When using Sequential models, prefer using an `Input(shape)` object as the first layer in the model instead.\n",
      "  super().__init__(**kwargs)\n"
     ]
    }
   ],
   "source": [
    "import tensorflow as tf\n",
    "import numpy as np\n",
    "\n",
    "# Assuming train_features is your DataFrame and 'day' is one of its columns\n",
    "day = np.array(train_features['day'])\n",
    "\n",
    "# Define and adapt the Normalization layer\n",
    "day_normalizer = tf.keras.layers.Normalization(input_shape=[1,], axis=None)\n",
    "day_normalizer.adapt(day)\n"
   ]
  },
  {
   "cell_type": "code",
   "execution_count": 98,
   "metadata": {},
   "outputs": [
    {
     "data": {
      "text/html": [
       "<pre style=\"white-space:pre;overflow-x:auto;line-height:normal;font-family:Menlo,'DejaVu Sans Mono',consolas,'Courier New',monospace\"><span style=\"font-weight: bold\">Model: \"sequential_1\"</span>\n",
       "</pre>\n"
      ],
      "text/plain": [
       "\u001b[1mModel: \"sequential_1\"\u001b[0m\n"
      ]
     },
     "metadata": {},
     "output_type": "display_data"
    },
    {
     "data": {
      "text/html": [
       "<pre style=\"white-space:pre;overflow-x:auto;line-height:normal;font-family:Menlo,'DejaVu Sans Mono',consolas,'Courier New',monospace\">┏━━━━━━━━━━━━━━━━━━━━━━━━━━━━━━━━━┳━━━━━━━━━━━━━━━━━━━━━━━━┳━━━━━━━━━━━━━━━┓\n",
       "┃<span style=\"font-weight: bold\"> Layer (type)                    </span>┃<span style=\"font-weight: bold\"> Output Shape           </span>┃<span style=\"font-weight: bold\">       Param # </span>┃\n",
       "┡━━━━━━━━━━━━━━━━━━━━━━━━━━━━━━━━━╇━━━━━━━━━━━━━━━━━━━━━━━━╇━━━━━━━━━━━━━━━┩\n",
       "│ normalization_3 (<span style=\"color: #0087ff; text-decoration-color: #0087ff\">Normalization</span>) │ (<span style=\"color: #00d7ff; text-decoration-color: #00d7ff\">None</span>, <span style=\"color: #00af00; text-decoration-color: #00af00\">1</span>)              │             <span style=\"color: #00af00; text-decoration-color: #00af00\">3</span> │\n",
       "├─────────────────────────────────┼────────────────────────┼───────────────┤\n",
       "│ dense_1 (<span style=\"color: #0087ff; text-decoration-color: #0087ff\">Dense</span>)                 │ (<span style=\"color: #00d7ff; text-decoration-color: #00d7ff\">None</span>, <span style=\"color: #00af00; text-decoration-color: #00af00\">1</span>)              │             <span style=\"color: #00af00; text-decoration-color: #00af00\">2</span> │\n",
       "└─────────────────────────────────┴────────────────────────┴───────────────┘\n",
       "</pre>\n"
      ],
      "text/plain": [
       "┏━━━━━━━━━━━━━━━━━━━━━━━━━━━━━━━━━┳━━━━━━━━━━━━━━━━━━━━━━━━┳━━━━━━━━━━━━━━━┓\n",
       "┃\u001b[1m \u001b[0m\u001b[1mLayer (type)                   \u001b[0m\u001b[1m \u001b[0m┃\u001b[1m \u001b[0m\u001b[1mOutput Shape          \u001b[0m\u001b[1m \u001b[0m┃\u001b[1m \u001b[0m\u001b[1m      Param #\u001b[0m\u001b[1m \u001b[0m┃\n",
       "┡━━━━━━━━━━━━━━━━━━━━━━━━━━━━━━━━━╇━━━━━━━━━━━━━━━━━━━━━━━━╇━━━━━━━━━━━━━━━┩\n",
       "│ normalization_3 (\u001b[38;5;33mNormalization\u001b[0m) │ (\u001b[38;5;45mNone\u001b[0m, \u001b[38;5;34m1\u001b[0m)              │             \u001b[38;5;34m3\u001b[0m │\n",
       "├─────────────────────────────────┼────────────────────────┼───────────────┤\n",
       "│ dense_1 (\u001b[38;5;33mDense\u001b[0m)                 │ (\u001b[38;5;45mNone\u001b[0m, \u001b[38;5;34m1\u001b[0m)              │             \u001b[38;5;34m2\u001b[0m │\n",
       "└─────────────────────────────────┴────────────────────────┴───────────────┘\n"
      ]
     },
     "metadata": {},
     "output_type": "display_data"
    },
    {
     "data": {
      "text/html": [
       "<pre style=\"white-space:pre;overflow-x:auto;line-height:normal;font-family:Menlo,'DejaVu Sans Mono',consolas,'Courier New',monospace\"><span style=\"font-weight: bold\"> Total params: </span><span style=\"color: #00af00; text-decoration-color: #00af00\">5</span> (24.00 B)\n",
       "</pre>\n"
      ],
      "text/plain": [
       "\u001b[1m Total params: \u001b[0m\u001b[38;5;34m5\u001b[0m (24.00 B)\n"
      ]
     },
     "metadata": {},
     "output_type": "display_data"
    },
    {
     "data": {
      "text/html": [
       "<pre style=\"white-space:pre;overflow-x:auto;line-height:normal;font-family:Menlo,'DejaVu Sans Mono',consolas,'Courier New',monospace\"><span style=\"font-weight: bold\"> Trainable params: </span><span style=\"color: #00af00; text-decoration-color: #00af00\">2</span> (8.00 B)\n",
       "</pre>\n"
      ],
      "text/plain": [
       "\u001b[1m Trainable params: \u001b[0m\u001b[38;5;34m2\u001b[0m (8.00 B)\n"
      ]
     },
     "metadata": {},
     "output_type": "display_data"
    },
    {
     "data": {
      "text/html": [
       "<pre style=\"white-space:pre;overflow-x:auto;line-height:normal;font-family:Menlo,'DejaVu Sans Mono',consolas,'Courier New',monospace\"><span style=\"font-weight: bold\"> Non-trainable params: </span><span style=\"color: #00af00; text-decoration-color: #00af00\">3</span> (16.00 B)\n",
       "</pre>\n"
      ],
      "text/plain": [
       "\u001b[1m Non-trainable params: \u001b[0m\u001b[38;5;34m3\u001b[0m (16.00 B)\n"
      ]
     },
     "metadata": {},
     "output_type": "display_data"
    }
   ],
   "source": [
    "import tensorflow as tf\n",
    "import numpy as np\n",
    "\n",
    "# Assuming day_normalizer is already defined as in your previous code\n",
    "# Define the model\n",
    "day_model = tf.keras.Sequential([\n",
    "    day_normalizer,\n",
    "    tf.keras.layers.Dense(units=1)  # accessing Dense layer through tf.keras.layers\n",
    "])\n",
    "\n",
    "# Print model summary\n",
    "day_model.summary()"
   ]
  },
  {
   "cell_type": "code",
   "execution_count": 99,
   "metadata": {},
   "outputs": [
    {
     "name": "stdout",
     "output_type": "stream",
     "text": [
      "\u001b[1m1/1\u001b[0m \u001b[32m━━━━━━━━━━━━━━━━━━━━\u001b[0m\u001b[37m\u001b[0m \u001b[1m0s\u001b[0m 33ms/step\n"
     ]
    },
    {
     "data": {
      "text/plain": [
       "array([[-1.2522556 ],\n",
       "       [ 0.83123547],\n",
       "       [-0.41885912],\n",
       "       [-0.00216093],\n",
       "       [-0.00216093],\n",
       "       [-0.00216093],\n",
       "       [ 0.41453728],\n",
       "       [-0.83555734],\n",
       "       [ 0.41453728],\n",
       "       [-1.2522556 ]], dtype=float32)"
      ]
     },
     "execution_count": 99,
     "metadata": {},
     "output_type": "execute_result"
    }
   ],
   "source": [
    "day_model.predict(day[:10])"
   ]
  },
  {
   "cell_type": "code",
   "execution_count": 100,
   "metadata": {},
   "outputs": [
    {
     "name": "stdout",
     "output_type": "stream",
     "text": [
      "It worked\n"
     ]
    }
   ],
   "source": [
    "day_model.compile(\n",
    "    optimizer=tf.optimizers.Adam(learning_rate=0.1),\n",
    "    loss='mean_absolute_error')\n",
    "\n",
    "print(\"It worked\")"
   ]
  },
  {
   "cell_type": "markdown",
   "metadata": {},
   "source": [
    "Keras model - exec training for 100 epochs"
   ]
  },
  {
   "cell_type": "code",
   "execution_count": 101,
   "metadata": {},
   "outputs": [
    {
     "name": "stdout",
     "output_type": "stream",
     "text": [
      "CPU times: user 6.7 s, sys: 498 ms, total: 7.2 s\n",
      "Wall time: 6.51 s\n"
     ]
    }
   ],
   "source": [
    "%%time\n",
    "history = day_model.fit(\n",
    "    train_features['day'],\n",
    "    train_labels,\n",
    "    epochs=100,\n",
    "    # Suppress logging.\n",
    "    verbose=0,\n",
    "    # Calculate validation results on 20% of the training data.\n",
    "    validation_split = 0.2)"
   ]
  },
  {
   "cell_type": "code",
   "execution_count": 102,
   "metadata": {},
   "outputs": [
    {
     "data": {
      "text/html": [
       "<div>\n",
       "<style scoped>\n",
       "    .dataframe tbody tr th:only-of-type {\n",
       "        vertical-align: middle;\n",
       "    }\n",
       "\n",
       "    .dataframe tbody tr th {\n",
       "        vertical-align: top;\n",
       "    }\n",
       "\n",
       "    .dataframe thead th {\n",
       "        text-align: right;\n",
       "    }\n",
       "</style>\n",
       "<table border=\"1\" class=\"dataframe\">\n",
       "  <thead>\n",
       "    <tr style=\"text-align: right;\">\n",
       "      <th></th>\n",
       "      <th>loss</th>\n",
       "      <th>val_loss</th>\n",
       "      <th>epoch</th>\n",
       "    </tr>\n",
       "  </thead>\n",
       "  <tbody>\n",
       "    <tr>\n",
       "      <th>95</th>\n",
       "      <td>0.007983</td>\n",
       "      <td>0.003789</td>\n",
       "      <td>95</td>\n",
       "    </tr>\n",
       "    <tr>\n",
       "      <th>96</th>\n",
       "      <td>0.014414</td>\n",
       "      <td>0.012639</td>\n",
       "      <td>96</td>\n",
       "    </tr>\n",
       "    <tr>\n",
       "      <th>97</th>\n",
       "      <td>0.011124</td>\n",
       "      <td>0.014890</td>\n",
       "      <td>97</td>\n",
       "    </tr>\n",
       "    <tr>\n",
       "      <th>98</th>\n",
       "      <td>0.010703</td>\n",
       "      <td>0.002827</td>\n",
       "      <td>98</td>\n",
       "    </tr>\n",
       "    <tr>\n",
       "      <th>99</th>\n",
       "      <td>0.011699</td>\n",
       "      <td>0.043124</td>\n",
       "      <td>99</td>\n",
       "    </tr>\n",
       "  </tbody>\n",
       "</table>\n",
       "</div>"
      ],
      "text/plain": [
       "        loss  val_loss  epoch\n",
       "95  0.007983  0.003789     95\n",
       "96  0.014414  0.012639     96\n",
       "97  0.011124  0.014890     97\n",
       "98  0.010703  0.002827     98\n",
       "99  0.011699  0.043124     99"
      ]
     },
     "execution_count": 102,
     "metadata": {},
     "output_type": "execute_result"
    }
   ],
   "source": [
    "hist = pd.DataFrame(history.history)\n",
    "hist['epoch'] = history.epoch\n",
    "hist.tail()"
   ]
  },
  {
   "cell_type": "code",
   "execution_count": 103,
   "metadata": {},
   "outputs": [],
   "source": [
    "def plot_loss(history):\n",
    "  plt.plot(history.history['loss'], label='loss')\n",
    "  plt.plot(history.history['val_loss'], label='val_loss')\n",
    "  plt.ylim([0, 0.2])\n",
    "  plt.xlabel('Epoch')\n",
    "  plt.ylabel('Error [NUM_TRIPS]')\n",
    "  plt.legend()\n",
    "  plt.grid(True)"
   ]
  },
  {
   "cell_type": "code",
   "execution_count": 104,
   "metadata": {},
   "outputs": [
    {
     "data": {
      "image/png": "[encoded data removed]",
      "text/plain": [
       "<Figure size 2000x500 with 1 Axes>"
      ]
     },
     "metadata": {},
     "output_type": "display_data"
    }
   ],
   "source": [
    "plot_loss(history)"
   ]
  },
  {
   "cell_type": "code",
   "execution_count": 105,
   "metadata": {},
   "outputs": [],
   "source": [
    "test_results = {}\n",
    "\n",
    "test_results['day_model'] = day_model.evaluate(\n",
    "    test_features['day'],\n",
    "    test_labels, verbose=0)"
   ]
  },
  {
   "cell_type": "code",
   "execution_count": 106,
   "metadata": {},
   "outputs": [
    {
     "name": "stdout",
     "output_type": "stream",
     "text": [
      "\u001b[1m1/1\u001b[0m \u001b[32m━━━━━━━━━━━━━━━━━━━━\u001b[0m\u001b[37m\u001b[0m \u001b[1m0s\u001b[0m 35ms/step\n"
     ]
    }
   ],
   "source": [
    "x = tf.linspace(1, 7, 8)\n",
    "y = day_model.predict(x)"
   ]
  },
  {
   "cell_type": "code",
   "execution_count": 107,
   "metadata": {},
   "outputs": [
    {
     "name": "stdout",
     "output_type": "stream",
     "text": [
      "Unique days: [7 2 5 4 3 6 1]\n",
      "Number of trips: (1157,)\n"
     ]
    }
   ],
   "source": [
    "#sense check\n",
    "print(\"Unique days:\", train_features['day'].unique())\n",
    "print(\"Number of trips:\", train_labels.shape)\n"
   ]
  },
  {
   "cell_type": "code",
   "execution_count": 108,
   "metadata": {},
   "outputs": [
    {
     "name": "stdout",
     "output_type": "stream",
     "text": [
      "Predicted days: tf.Tensor(\n",
      "[1.         1.85714286 2.71428571 3.57142857 4.42857143 5.28571429\n",
      " 6.14285714 7.        ], shape=(8,), dtype=float64)\n",
      "Predicted NUM_TRIPS: [[-0.08864647]\n",
      " [-0.070527  ]\n",
      " [-0.05240753]\n",
      " [-0.03428805]\n",
      " [-0.01616859]\n",
      " [ 0.00195089]\n",
      " [ 0.02007036]\n",
      " [ 0.03818984]]\n"
     ]
    }
   ],
   "source": [
    "print(\"Predicted days:\", x[:10])\n",
    "print(\"Predicted NUM_TRIPS:\", y[:10])\n"
   ]
  },
  {
   "cell_type": "code",
   "execution_count": 112,
   "metadata": {},
   "outputs": [
    {
     "data": {
      "image/png": "[encoded data removed]",
      "text/plain": [
       "<Figure size 2000x500 with 1 Axes>"
      ]
     },
     "metadata": {},
     "output_type": "display_data"
    }
   ],
   "source": [
    "plt.boxplot(train_labels)  # Boxplot to check for outliers\n",
    "plt.show()\n"
   ]
  },
  {
   "cell_type": "code",
   "execution_count": 111,
   "metadata": {},
   "outputs": [
    {
     "data": {
      "image/png": "[encoded data removed]",
      "text/plain": [
       "<Figure size 2000x500 with 1 Axes>"
      ]
     },
     "metadata": {},
     "output_type": "display_data"
    }
   ],
   "source": [
    "def plot_day(x, y):\n",
    "  plt.scatter(train_features['day'], train_labels, label='Data', alpha=1)\n",
    "  plt.plot(x, y, color='k', label='Predictions')\n",
    "  plt.xlabel('day')\n",
    "  plt.ylim([0.2, 0.8])\n",
    "  plt.ylabel('NUM_TRIPS')\n",
    "  plt.legend()\n",
    "\n",
    "plot_day(x, y)"
   ]
  }
 ],
 "metadata": {
  "kernelspec": {
   "display_name": "Python 3",
   "language": "python",
   "name": "python3"
  },
  "language_info": {
   "codemirror_mode": {
    "name": "ipython",
    "version": 3
   },
   "file_extension": ".py",
   "mimetype": "text/x-python",
   "name": "python",
   "nbconvert_exporter": "python",
   "pygments_lexer": "ipython3",
   "version": "3.11.1"
  }
 },
 "nbformat": 4,
 "nbformat_minor": 2
}
